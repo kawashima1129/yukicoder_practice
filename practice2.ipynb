{
 "cells": [
  {
   "cell_type": "code",
   "execution_count": 22,
   "metadata": {},
   "outputs": [
    {
     "name": "stdout",
     "output_type": "stream",
     "text": [
      "> 4\n",
      "21 10\n",
      "elapsed_time:0.0003600120544433594[sec]\n"
     ]
    }
   ],
   "source": [
    "import numpy as np\n",
    "import random\n",
    "import time\n",
    "\n",
    "def solve():\n",
    "    n = int(input('> '))\n",
    "    if n == 0:\n",
    "        return -1\n",
    "    \n",
    "    start = time.time()\n",
    "    \n",
    "    playerA = []\n",
    "    playerB = []\n",
    "    \n",
    "    for i in range(n):\n",
    "        playerA.append(random.randint(0, 9))\n",
    "        playerB.append(random.randint(0, 9))\n",
    "    \n",
    "    sumA, sumB = 0, 0\n",
    "    for i in range(n):\n",
    "        if playerA[i] > playerB[i]:\n",
    "            sumA = sumA + playerA[i] + playerB[i]\n",
    "        elif playerA[i] < playerB[i]:\n",
    "            sumB = sumB + playerA[i] + playerB[i]\n",
    "        elif playerA[i] == playerB[i]:\n",
    "            sumA = sumA + playerA[i]\n",
    "            sumB = sumB + playerB[i]\n",
    "            \n",
    "    print (\"{0} {1}\".format(sumA, sumB))\n",
    "    elapsed_time = time.time() - start\n",
    "    print (\"elapsed_time:{0}\".format(elapsed_time) + \"[sec]\")\n",
    "    \n",
    "\n",
    "\n",
    "if __name__ == '__main__':\n",
    "    solve()"
   ]
  },
  {
   "cell_type": "code",
   "execution_count": null,
   "metadata": {
    "collapsed": true
   },
   "outputs": [],
   "source": []
  },
  {
   "cell_type": "code",
   "execution_count": null,
   "metadata": {
    "collapsed": true
   },
   "outputs": [],
   "source": []
  }
 ],
 "metadata": {
  "kernelspec": {
   "display_name": "Python 3",
   "language": "python",
   "name": "python3"
  },
  "language_info": {
   "codemirror_mode": {
    "name": "ipython",
    "version": 3
   },
   "file_extension": ".py",
   "mimetype": "text/x-python",
   "name": "python",
   "nbconvert_exporter": "python",
   "pygments_lexer": "ipython3",
   "version": "3.6.1"
  }
 },
 "nbformat": 4,
 "nbformat_minor": 2
}

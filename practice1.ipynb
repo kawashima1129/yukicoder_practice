{
 "cells": [
  {
   "cell_type": "code",
   "execution_count": 1,
   "metadata": {},
   "outputs": [
    {
     "name": "stdout",
     "output_type": "stream",
     "text": [
      "> 1 2 3\n",
      "4.0\n",
      "elapsed_time:0.0005102157592773438[sec]\n"
     ]
    }
   ],
   "source": [
    "import time\n",
    "\n",
    "x = input('> ')\n",
    "\n",
    "start = time.time()\n",
    "\n",
    "data_str = x.split()\n",
    "a = list(map(int, data_str))\n",
    "r = (a[1]-a[2])/(a[0]-a[1])\n",
    "d = a[1] - r * a[0]\n",
    "output = r * a[2] + d\n",
    "print(output)\n",
    "\n",
    "elapsed_time = time.time() - start\n",
    "print (\"elapsed_time:{0}\".format(elapsed_time) + \"[sec]\")"
   ]
  },
  {
   "cell_type": "code",
   "execution_count": null,
   "metadata": {
    "collapsed": true
   },
   "outputs": [],
   "source": []
  }
 ],
 "metadata": {
  "kernelspec": {
   "display_name": "Python 3",
   "language": "python",
   "name": "python3"
  },
  "language_info": {
   "codemirror_mode": {
    "name": "ipython",
    "version": 3
   },
   "file_extension": ".py",
   "mimetype": "text/x-python",
   "name": "python",
   "nbconvert_exporter": "python",
   "pygments_lexer": "ipython3",
   "version": "3.6.1"
  }
 },
 "nbformat": 4,
 "nbformat_minor": 2
}

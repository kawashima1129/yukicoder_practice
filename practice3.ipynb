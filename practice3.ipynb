{
 "cells": [
  {
   "cell_type": "code",
   "execution_count": 11,
   "metadata": {},
   "outputs": [
    {
     "name": "stdout",
     "output_type": "stream",
     "text": [
      "> 8\n",
      "> 300\n",
      "> 100\n",
      "> 10\n",
      "> 250\n",
      "1800\n"
     ]
    }
   ],
   "source": [
    "x = []\n",
    "for i in range(5):\n",
    "    x.append(int(input('> ')))\n",
    "X_fee = x[0] * x[4]\n",
    "\n",
    "if x[4] <= x[2]:\n",
    "    Y_fee = x[1]\n",
    "else:\n",
    "    Y_fee = x[1] + x[3] * (x[4] - x[2])\n",
    "fee = min(X_fee, Y_fee)\n",
    "print(fee)"
   ]
  },
  {
   "cell_type": "code",
   "execution_count": null,
   "metadata": {
    "collapsed": true
   },
   "outputs": [],
   "source": []
  }
 ],
 "metadata": {
  "kernelspec": {
   "display_name": "Python 3",
   "language": "python",
   "name": "python3"
  },
  "language_info": {
   "codemirror_mode": {
    "name": "ipython",
    "version": 3
   },
   "file_extension": ".py",
   "mimetype": "text/x-python",
   "name": "python",
   "nbconvert_exporter": "python",
   "pygments_lexer": "ipython3",
   "version": "3.6.1"
  }
 },
 "nbformat": 4,
 "nbformat_minor": 2
}
